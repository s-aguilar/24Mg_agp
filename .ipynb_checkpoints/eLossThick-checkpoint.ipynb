{
 "cells": [
  {
   "cell_type": "code",
   "execution_count": 1,
   "metadata": {},
   "outputs": [],
   "source": [
    "import numpy as np\n",
    "import pandas as pd\n",
    "import matplotlib.pyplot as plt"
   ]
  },
  {
   "cell_type": "code",
   "execution_count": 2,
   "metadata": {},
   "outputs": [],
   "source": [
    "colNames = ['E','Ang','XS','XS_err']\n",
    "# p2 = pd.read_table('rMatrix/24Mg_rMatrix_p2.dat',names=colNames)\n",
    "p2 = pd.read_table('rMatrix/24Mg_rMatrix_p2_angInt.dat',names=colNames)"
   ]
  },
  {
   "cell_type": "code",
   "execution_count": 26,
   "metadata": {},
   "outputs": [
    {
     "data": {
      "text/plain": [
       "(0, 5000000000000000.0)"
      ]
     },
     "execution_count": 26,
     "metadata": {},
     "output_type": "execute_result"
    },
    {
     "data": {
      "image/png": "[encoded data removed]",
      "text/plain": [
       "<Figure size 432x288 with 1 Axes>"
      ]
     },
     "metadata": {
      "needs_background": "light"
     },
     "output_type": "display_data"
    }
   ],
   "source": [
    "plt.errorbar(x=p2['E'],y=p2['XS'],yerr=p2['XS_err'],fmt='b.')\n",
    "plt.xlim(4.28,4.36)\n",
    "plt.ylim(0,.5e16)"
   ]
  },
  {
   "cell_type": "markdown",
   "metadata": {},
   "source": [
    "# NO BG SUBTRACTION"
   ]
  },
  {
   "cell_type": "code",
   "execution_count": 29,
   "metadata": {},
   "outputs": [],
   "source": [
    "# PLAY with TOP\n",
    "top = 3.4e15\n",
    "mid = top/2\n",
    "\n",
    "epoints = np.linspace(4.25,4.375,1000)\n",
    "topline = top*np.ones_like(epoints)\n",
    "midline = mid*np.ones_like(epoints)\n",
    "\n",
    "\n",
    "\n",
    "\n",
    "from scipy.interpolate import interp1d\n",
    "\n",
    "f = interp1d(p2['E'],p2['XS'])\n",
    "\n",
    "leftrange = np.linspace(4.295,4.305,1000)\n",
    "yleft = f(leftrange)\n",
    "rightrange = np.linspace(4.32,4.335,1000)\n",
    "yright = f(rightrange)\n",
    "\n",
    "def dist1d(points, ref):\n",
    "    return np.abs(points - ref)\n",
    "\n",
    "# left = 4.295\n",
    "# right = 4.33\n",
    "left = leftrange[np.where(dist1d(yleft,mid) == min(dist1d(yleft,mid)))]\n",
    "leftline = left*np.ones_like(epoints)\n",
    "right = rightrange[np.where(dist1d(yright,mid) == min(dist1d(yright,mid)))]\n",
    "rightline = right*np.ones_like(epoints)\n",
    "\n",
    "ypoints = np.linspace(0,7e15,len(epoints))\n",
    "\n",
    "\n",
    "\n",
    "delta = (right-left)*1000 # keV"
   ]
  },
  {
   "cell_type": "code",
   "execution_count": 30,
   "metadata": {},
   "outputs": [
    {
     "data": {
      "text/plain": [
       "[<matplotlib.lines.Line2D at 0x11c251d10>]"
      ]
     },
     "execution_count": 30,
     "metadata": {},
     "output_type": "execute_result"
    },
    {
     "data": {
      "image/png": "[encoded data removed]",
      "text/plain": [
       "<Figure size 432x288 with 1 Axes>"
      ]
     },
     "metadata": {
      "needs_background": "light"
     },
     "output_type": "display_data"
    }
   ],
   "source": [
    "plt.errorbar(x=p2['E'],y=p2['XS'],yerr=p2['XS_err'],fmt='b.')\n",
    "plt.xlim(4.25,4.375)\n",
    "plt.ylim(0,.7e16)\n",
    "plt.xlabel('E$_\\\\alpha$ (MeV)')\n",
    "plt.ylabel('Yield (arb units)')\n",
    "\n",
    "# arrow\n",
    "plt.annotate(s='',\n",
    "            xy=(left,top*1.15),\n",
    "            xytext=(right,top*1.15),\n",
    "            arrowprops=dict(arrowstyle=\"<->\"))\n",
    "\n",
    "# text\n",
    "plt.text(x=(left+right)/2.006,y=1.25*top,s='$\\\\Delta$ = %.1f keV'%delta)\n",
    "\n",
    "plt.plot(epoints,topline,c='r',alpha=.5,linestyle='dashed')\n",
    "plt.plot(epoints,midline,c='r',alpha=.5,linestyle='dashed')\n",
    "\n",
    "plt.plot(leftline,ypoints,c='grey',alpha=.5,linestyle='dashed')\n",
    "plt.plot(rightline,ypoints,c='grey',alpha=.5,linestyle='dashed')"
   ]
  },
  {
   "cell_type": "markdown",
   "metadata": {},
   "source": [
    "# LINEAR BG SUBTRACTION"
   ]
  },
  {
   "cell_type": "code",
   "execution_count": 31,
   "metadata": {},
   "outputs": [
    {
     "data": {
      "text/plain": [
       "[<matplotlib.lines.Line2D at 0x11c318890>]"
      ]
     },
     "execution_count": 31,
     "metadata": {},
     "output_type": "execute_result"
    },
    {
     "data": {
      "image/png": "[encoded data removed]",
      "text/plain": [
       "<Figure size 432x288 with 1 Axes>"
      ]
     },
     "metadata": {
      "needs_background": "light"
     },
     "output_type": "display_data"
    }
   ],
   "source": [
    "plt.errorbar(x=p2['E'],y=p2['XS'],yerr=p2['XS_err'],fmt='b.')\n",
    "plt.xlim(4.25,4.375)\n",
    "plt.ylim(0,.7e16)\n",
    "plt.xlabel('E$_\\\\alpha$ (MeV)')\n",
    "plt.ylabel('Yield (arb units)')\n",
    "\n",
    "# arrow\n",
    "plt.annotate(s='',\n",
    "            xy=(left,top*1.15),\n",
    "            xytext=(right,top*1.15),\n",
    "            arrowprops=dict(arrowstyle=\"<->\"))\n",
    "\n",
    "# text\n",
    "plt.text(x=(left+right)/2.006,y=1.25*top,s='$\\\\Delta$ = %.1f keV'%delta)\n",
    "\n",
    "plt.plot(epoints,topline,c='r',alpha=.5,linestyle='dashed')\n",
    "plt.plot(epoints,midline,c='r',alpha=.5,linestyle='dashed')\n",
    "\n",
    "plt.plot(leftline,ypoints,c='grey',alpha=.5,linestyle='dashed')\n",
    "plt.plot(rightline,ypoints,c='grey',alpha=.5,linestyle='dashed')"
   ]
  },
  {
   "cell_type": "code",
   "execution_count": 38,
   "metadata": {},
   "outputs": [
    {
     "data": {
      "text/plain": [
       "<ErrorbarContainer object of 3 artists>"
      ]
     },
     "execution_count": 38,
     "metadata": {},
     "output_type": "execute_result"
    },
    {
     "data": {
      "image/png": "[encoded data removed]",
      "text/plain": [
       "<Figure size 432x288 with 1 Axes>"
      ]
     },
     "metadata": {
      "needs_background": "light"
     },
     "output_type": "display_data"
    }
   ],
   "source": [
    "newp2 = p2.query('E < 4.28 or E > 4.345')\n",
    "\n",
    "plt.xlim(4.25,4.375)\n",
    "plt.ylim(0,.7e16)\n",
    "plt.xlabel('E$_\\\\alpha$ (MeV)')\n",
    "plt.ylabel('Yield (arb units)')\n",
    "plt.errorbar(x=p2['E'],y=p2['XS'],yerr=p2['XS_err'],fmt='b.')\n",
    "plt.errorbar(x=newp2['E'],y=newp2['XS'],yerr=newp2['XS_err'],fmt='r.')\n",
    "\n",
    "\n",
    "\n",
    "f = interp1d(newp2['E'],newp2['XS'])\n",
    "\n",
    "subvalues = f(p2['E'])\n",
    "\n",
    "subbedp2 = p2.copy()\n",
    "subbedp2['XS'] = subbedp2['XS']-subvalues\n",
    "subbedp2['XS_err'] = subbedp2['XS_err']-subvalues\n",
    "plt.errorbar(x=subbedp2['E'],y=subbedp2['XS'],yerr=subbedp2['XS_err'],fmt='k.')"
   ]
  },
  {
   "cell_type": "code",
   "execution_count": 43,
   "metadata": {},
   "outputs": [
    {
     "data": {
      "text/plain": [
       "[<matplotlib.lines.Line2D at 0x11ccde990>]"
      ]
     },
     "execution_count": 43,
     "metadata": {},
     "output_type": "execute_result"
    },
    {
     "data": {
      "image/png": "[encoded data removed]",
      "text/plain": [
       "<Figure size 432x288 with 1 Axes>"
      ]
     },
     "metadata": {
      "needs_background": "light"
     },
     "output_type": "display_data"
    }
   ],
   "source": [
    "# PLAY with TOP\n",
    "top = 3.78e15\n",
    "# top = 3.3e15\n",
    "mid = top/2\n",
    "\n",
    "epoints = np.linspace(4.25,4.375,1000)\n",
    "topline = top*np.ones_like(epoints)\n",
    "midline = mid*np.ones_like(epoints)\n",
    "\n",
    "\n",
    "\n",
    "\n",
    "from scipy.interpolate import interp1d\n",
    "\n",
    "f = interp1d(p2['E'],p2['XS'])\n",
    "\n",
    "leftrange = np.linspace(4.295,4.305,1000)\n",
    "yleft = f(leftrange)\n",
    "rightrange = np.linspace(4.32,4.335,1000)\n",
    "yright = f(rightrange)\n",
    "\n",
    "def dist1d(points, ref):\n",
    "    return np.abs(points - ref)\n",
    "\n",
    "# left = 4.295\n",
    "# right = 4.33\n",
    "left = leftrange[np.where(dist1d(yleft,mid) == min(dist1d(yleft,mid)))]\n",
    "leftline = left*np.ones_like(epoints)\n",
    "right = rightrange[np.where(dist1d(yright,mid) == min(dist1d(yright,mid)))]\n",
    "rightline = right*np.ones_like(epoints)\n",
    "\n",
    "ypoints = np.linspace(0,7e15,len(epoints))\n",
    "\n",
    "\n",
    "\n",
    "delta = (right-left)*1000 # keV\n",
    "\n",
    "\n",
    "\n",
    "plt.errorbar(x=subbedp2['E'],y=subbedp2['XS'],yerr=subbedp2['XS_err'],fmt='b.')\n",
    "plt.xlim(4.25,4.375)\n",
    "plt.ylim(0,.7e16)\n",
    "plt.xlabel('E$_\\\\alpha$ (MeV)')\n",
    "plt.ylabel('Yield (arb units)')\n",
    "\n",
    "# arrow\n",
    "plt.annotate(s='',\n",
    "            xy=(left,top*1.15),\n",
    "            xytext=(right,top*1.15),\n",
    "            arrowprops=dict(arrowstyle=\"<->\"))\n",
    "\n",
    "# text\n",
    "plt.text(x=(left+right)/2.006,y=1.25*top,s='$\\\\Delta$ = %.1f keV'%delta)\n",
    "\n",
    "plt.plot(epoints,topline,c='r',alpha=.5,linestyle='dashed')\n",
    "plt.plot(epoints,midline,c='r',alpha=.5,linestyle='dashed')\n",
    "\n",
    "plt.plot(leftline,ypoints,c='grey',alpha=.5,linestyle='dashed')\n",
    "plt.plot(rightline,ypoints,c='grey',alpha=.5,linestyle='dashed')"
   ]
  },
  {
   "cell_type": "code",
   "execution_count": null,
   "metadata": {},
   "outputs": [],
   "source": []
  }
 ],
 "metadata": {
  "kernelspec": {
   "display_name": "Python 3",
   "language": "python",
   "name": "python3"
  },
  "language_info": {
   "codemirror_mode": {
    "name": "ipython",
    "version": 3
   },
   "file_extension": ".py",
   "mimetype": "text/x-python",
   "name": "python",
   "nbconvert_exporter": "python",
   "pygments_lexer": "ipython3",
   "version": "3.7.6"
  }
 },
 "nbformat": 4,
 "nbformat_minor": 4
}
